{
 "cells": [
  {
   "cell_type": "markdown",
   "metadata": {},
   "source": [
    "## Data cleaning and Regression to predict car prices"
   ]
  },
  {
   "cell_type": "code",
   "execution_count": 33,
   "metadata": {},
   "outputs": [],
   "source": [
    "import pandas as pd\n",
    "import numpy as np\n",
    "import matplotlib.pyplot as plt\n",
    "import seaborn as sns\n",
    "\n",
    "plt.style.use('fivethirtyeight')"
   ]
  },
  {
   "cell_type": "code",
   "execution_count": 84,
   "metadata": {},
   "outputs": [],
   "source": [
    "import os\n",
    "\n",
    "os.chdir(\"/home/leon/Documents/projects\")"
   ]
  },
  {
   "cell_type": "code",
   "execution_count": 132,
   "metadata": {
    "_cell_guid": "79c7e3d0-c299-4dcb-8224-4455121ee9b0",
    "_uuid": "d629ff2d2480ee46fbb7e2d37f6b5fab8052498a"
   },
   "outputs": [],
   "source": [
    "data = pd.read_csv(\"USA_cars_datasets.csv\")"
   ]
  },
  {
   "cell_type": "code",
   "execution_count": 86,
   "metadata": {},
   "outputs": [
    {
     "data": {
      "text/html": [
       "<div>\n",
       "<style scoped>\n",
       "    .dataframe tbody tr th:only-of-type {\n",
       "        vertical-align: middle;\n",
       "    }\n",
       "\n",
       "    .dataframe tbody tr th {\n",
       "        vertical-align: top;\n",
       "    }\n",
       "\n",
       "    .dataframe thead th {\n",
       "        text-align: right;\n",
       "    }\n",
       "</style>\n",
       "<table border=\"1\" class=\"dataframe\">\n",
       "  <thead>\n",
       "    <tr style=\"text-align: right;\">\n",
       "      <th></th>\n",
       "      <th>Unnamed: 0</th>\n",
       "      <th>price</th>\n",
       "      <th>brand</th>\n",
       "      <th>model</th>\n",
       "      <th>year</th>\n",
       "      <th>title_status</th>\n",
       "      <th>mileage</th>\n",
       "      <th>color</th>\n",
       "      <th>vin</th>\n",
       "      <th>lot</th>\n",
       "      <th>state</th>\n",
       "      <th>country</th>\n",
       "      <th>condition</th>\n",
       "    </tr>\n",
       "  </thead>\n",
       "  <tbody>\n",
       "    <tr>\n",
       "      <th>0</th>\n",
       "      <td>0</td>\n",
       "      <td>6300</td>\n",
       "      <td>toyota</td>\n",
       "      <td>cruiser</td>\n",
       "      <td>2008</td>\n",
       "      <td>clean vehicle</td>\n",
       "      <td>274117.0</td>\n",
       "      <td>black</td>\n",
       "      <td>jtezu11f88k007763</td>\n",
       "      <td>159348797</td>\n",
       "      <td>new jersey</td>\n",
       "      <td>usa</td>\n",
       "      <td>10 days left</td>\n",
       "    </tr>\n",
       "    <tr>\n",
       "      <th>1</th>\n",
       "      <td>1</td>\n",
       "      <td>2899</td>\n",
       "      <td>ford</td>\n",
       "      <td>se</td>\n",
       "      <td>2011</td>\n",
       "      <td>clean vehicle</td>\n",
       "      <td>190552.0</td>\n",
       "      <td>silver</td>\n",
       "      <td>2fmdk3gc4bbb02217</td>\n",
       "      <td>166951262</td>\n",
       "      <td>tennessee</td>\n",
       "      <td>usa</td>\n",
       "      <td>6 days left</td>\n",
       "    </tr>\n",
       "    <tr>\n",
       "      <th>2</th>\n",
       "      <td>2</td>\n",
       "      <td>5350</td>\n",
       "      <td>dodge</td>\n",
       "      <td>mpv</td>\n",
       "      <td>2018</td>\n",
       "      <td>clean vehicle</td>\n",
       "      <td>39590.0</td>\n",
       "      <td>silver</td>\n",
       "      <td>3c4pdcgg5jt346413</td>\n",
       "      <td>167655728</td>\n",
       "      <td>georgia</td>\n",
       "      <td>usa</td>\n",
       "      <td>2 days left</td>\n",
       "    </tr>\n",
       "    <tr>\n",
       "      <th>3</th>\n",
       "      <td>3</td>\n",
       "      <td>25000</td>\n",
       "      <td>ford</td>\n",
       "      <td>door</td>\n",
       "      <td>2014</td>\n",
       "      <td>clean vehicle</td>\n",
       "      <td>64146.0</td>\n",
       "      <td>blue</td>\n",
       "      <td>1ftfw1et4efc23745</td>\n",
       "      <td>167753855</td>\n",
       "      <td>virginia</td>\n",
       "      <td>usa</td>\n",
       "      <td>22 hours left</td>\n",
       "    </tr>\n",
       "    <tr>\n",
       "      <th>4</th>\n",
       "      <td>4</td>\n",
       "      <td>27700</td>\n",
       "      <td>chevrolet</td>\n",
       "      <td>1500</td>\n",
       "      <td>2018</td>\n",
       "      <td>clean vehicle</td>\n",
       "      <td>6654.0</td>\n",
       "      <td>red</td>\n",
       "      <td>3gcpcrec2jg473991</td>\n",
       "      <td>167763266</td>\n",
       "      <td>florida</td>\n",
       "      <td>usa</td>\n",
       "      <td>22 hours left</td>\n",
       "    </tr>\n",
       "  </tbody>\n",
       "</table>\n",
       "</div>"
      ],
      "text/plain": [
       "   Unnamed: 0  price      brand    model  year   title_status   mileage  \\\n",
       "0           0   6300     toyota  cruiser  2008  clean vehicle  274117.0   \n",
       "1           1   2899       ford       se  2011  clean vehicle  190552.0   \n",
       "2           2   5350      dodge      mpv  2018  clean vehicle   39590.0   \n",
       "3           3  25000       ford     door  2014  clean vehicle   64146.0   \n",
       "4           4  27700  chevrolet     1500  2018  clean vehicle    6654.0   \n",
       "\n",
       "    color                  vin        lot       state country      condition  \n",
       "0   black    jtezu11f88k007763  159348797  new jersey     usa   10 days left  \n",
       "1  silver    2fmdk3gc4bbb02217  166951262   tennessee     usa    6 days left  \n",
       "2  silver    3c4pdcgg5jt346413  167655728     georgia     usa    2 days left  \n",
       "3    blue    1ftfw1et4efc23745  167753855    virginia     usa  22 hours left  \n",
       "4     red    3gcpcrec2jg473991  167763266     florida     usa  22 hours left  "
      ]
     },
     "execution_count": 86,
     "metadata": {},
     "output_type": "execute_result"
    }
   ],
   "source": [
    "data.head()"
   ]
  },
  {
   "cell_type": "code",
   "execution_count": null,
   "metadata": {},
   "outputs": [],
   "source": []
  },
  {
   "cell_type": "code",
   "execution_count": 135,
   "metadata": {},
   "outputs": [
    {
     "name": "stdout",
     "output_type": "stream",
     "text": [
      "<class 'pandas.core.frame.DataFrame'>\n",
      "RangeIndex: 2499 entries, 0 to 2498\n",
      "Data columns (total 13 columns):\n",
      " #   Column        Non-Null Count  Dtype  \n",
      "---  ------        --------------  -----  \n",
      " 0   Unnamed: 0    2499 non-null   int64  \n",
      " 1   price         2499 non-null   int64  \n",
      " 2   brand         2499 non-null   object \n",
      " 3   model         2499 non-null   object \n",
      " 4   year          2499 non-null   int64  \n",
      " 5   title_status  2499 non-null   object \n",
      " 6   mileage       2499 non-null   float64\n",
      " 7   color         2499 non-null   object \n",
      " 8   vin           2499 non-null   object \n",
      " 9   lot           2499 non-null   int64  \n",
      " 10  state         2499 non-null   object \n",
      " 11  country       2499 non-null   object \n",
      " 12  condition     2499 non-null   object \n",
      "dtypes: float64(1), int64(4), object(8)\n",
      "memory usage: 253.9+ KB\n"
     ]
    }
   ],
   "source": [
    "data.info()"
   ]
  },
  {
   "cell_type": "markdown",
   "metadata": {},
   "source": [
    "Look at variable distribution"
   ]
  },
  {
   "cell_type": "code",
   "execution_count": 136,
   "metadata": {},
   "outputs": [
    {
     "data": {
      "text/html": [
       "<div>\n",
       "<style scoped>\n",
       "    .dataframe tbody tr th:only-of-type {\n",
       "        vertical-align: middle;\n",
       "    }\n",
       "\n",
       "    .dataframe tbody tr th {\n",
       "        vertical-align: top;\n",
       "    }\n",
       "\n",
       "    .dataframe thead th {\n",
       "        text-align: right;\n",
       "    }\n",
       "</style>\n",
       "<table border=\"1\" class=\"dataframe\">\n",
       "  <thead>\n",
       "    <tr style=\"text-align: right;\">\n",
       "      <th></th>\n",
       "      <th>count</th>\n",
       "      <th>mean</th>\n",
       "      <th>std</th>\n",
       "      <th>min</th>\n",
       "      <th>25%</th>\n",
       "      <th>50%</th>\n",
       "      <th>75%</th>\n",
       "      <th>max</th>\n",
       "    </tr>\n",
       "  </thead>\n",
       "  <tbody>\n",
       "    <tr>\n",
       "      <th>Unnamed: 0</th>\n",
       "      <td>2499.0</td>\n",
       "      <td>1.249000e+03</td>\n",
       "      <td>721.543484</td>\n",
       "      <td>0.0</td>\n",
       "      <td>624.5</td>\n",
       "      <td>1249.0</td>\n",
       "      <td>1873.5</td>\n",
       "      <td>2498.0</td>\n",
       "    </tr>\n",
       "    <tr>\n",
       "      <th>price</th>\n",
       "      <td>2499.0</td>\n",
       "      <td>1.876767e+04</td>\n",
       "      <td>12116.094936</td>\n",
       "      <td>0.0</td>\n",
       "      <td>10200.0</td>\n",
       "      <td>16900.0</td>\n",
       "      <td>25555.5</td>\n",
       "      <td>84900.0</td>\n",
       "    </tr>\n",
       "    <tr>\n",
       "      <th>year</th>\n",
       "      <td>2499.0</td>\n",
       "      <td>2.016714e+03</td>\n",
       "      <td>3.442656</td>\n",
       "      <td>1973.0</td>\n",
       "      <td>2016.0</td>\n",
       "      <td>2018.0</td>\n",
       "      <td>2019.0</td>\n",
       "      <td>2020.0</td>\n",
       "    </tr>\n",
       "    <tr>\n",
       "      <th>mileage</th>\n",
       "      <td>2499.0</td>\n",
       "      <td>5.229869e+04</td>\n",
       "      <td>59705.516356</td>\n",
       "      <td>0.0</td>\n",
       "      <td>21466.5</td>\n",
       "      <td>35365.0</td>\n",
       "      <td>63472.5</td>\n",
       "      <td>1017936.0</td>\n",
       "    </tr>\n",
       "    <tr>\n",
       "      <th>lot</th>\n",
       "      <td>2499.0</td>\n",
       "      <td>1.676914e+08</td>\n",
       "      <td>203877.210516</td>\n",
       "      <td>159348797.0</td>\n",
       "      <td>167625331.0</td>\n",
       "      <td>167745058.0</td>\n",
       "      <td>167779772.0</td>\n",
       "      <td>167805500.0</td>\n",
       "    </tr>\n",
       "  </tbody>\n",
       "</table>\n",
       "</div>"
      ],
      "text/plain": [
       "             count          mean            std          min          25%  \\\n",
       "Unnamed: 0  2499.0  1.249000e+03     721.543484          0.0        624.5   \n",
       "price       2499.0  1.876767e+04   12116.094936          0.0      10200.0   \n",
       "year        2499.0  2.016714e+03       3.442656       1973.0       2016.0   \n",
       "mileage     2499.0  5.229869e+04   59705.516356          0.0      21466.5   \n",
       "lot         2499.0  1.676914e+08  203877.210516  159348797.0  167625331.0   \n",
       "\n",
       "                    50%          75%          max  \n",
       "Unnamed: 0       1249.0       1873.5       2498.0  \n",
       "price           16900.0      25555.5      84900.0  \n",
       "year             2018.0       2019.0       2020.0  \n",
       "mileage         35365.0      63472.5    1017936.0  \n",
       "lot         167745058.0  167779772.0  167805500.0  "
      ]
     },
     "execution_count": 136,
     "metadata": {},
     "output_type": "execute_result"
    }
   ],
   "source": [
    "data.describe().T"
   ]
  },
  {
   "cell_type": "markdown",
   "metadata": {},
   "source": [
    "Check for missing values"
   ]
  },
  {
   "cell_type": "code",
   "execution_count": 137,
   "metadata": {},
   "outputs": [
    {
     "data": {
      "text/plain": [
       "Unnamed: 0      0.0\n",
       "price           0.0\n",
       "brand           0.0\n",
       "model           0.0\n",
       "year            0.0\n",
       "title_status    0.0\n",
       "mileage         0.0\n",
       "color           0.0\n",
       "vin             0.0\n",
       "lot             0.0\n",
       "state           0.0\n",
       "country         0.0\n",
       "condition       0.0\n",
       "dtype: float64"
      ]
     },
     "execution_count": 137,
     "metadata": {},
     "output_type": "execute_result"
    }
   ],
   "source": [
    "data.isna().sum()/len(data)*100"
   ]
  },
  {
   "cell_type": "code",
   "execution_count": 138,
   "metadata": {},
   "outputs": [],
   "source": [
    "data.drop(\"Unnamed: 0\", axis=1, inplace=True)"
   ]
  },
  {
   "cell_type": "code",
   "execution_count": 139,
   "metadata": {},
   "outputs": [
    {
     "data": {
      "text/html": [
       "<div>\n",
       "<style scoped>\n",
       "    .dataframe tbody tr th:only-of-type {\n",
       "        vertical-align: middle;\n",
       "    }\n",
       "\n",
       "    .dataframe tbody tr th {\n",
       "        vertical-align: top;\n",
       "    }\n",
       "\n",
       "    .dataframe thead th {\n",
       "        text-align: right;\n",
       "    }\n",
       "</style>\n",
       "<table border=\"1\" class=\"dataframe\">\n",
       "  <thead>\n",
       "    <tr style=\"text-align: right;\">\n",
       "      <th></th>\n",
       "      <th>price</th>\n",
       "      <th>brand</th>\n",
       "      <th>model</th>\n",
       "      <th>year</th>\n",
       "      <th>title_status</th>\n",
       "      <th>mileage</th>\n",
       "      <th>color</th>\n",
       "      <th>vin</th>\n",
       "      <th>lot</th>\n",
       "      <th>state</th>\n",
       "      <th>country</th>\n",
       "      <th>condition</th>\n",
       "    </tr>\n",
       "  </thead>\n",
       "  <tbody>\n",
       "    <tr>\n",
       "      <th>0</th>\n",
       "      <td>6300</td>\n",
       "      <td>toyota</td>\n",
       "      <td>cruiser</td>\n",
       "      <td>2008</td>\n",
       "      <td>clean vehicle</td>\n",
       "      <td>274117.0</td>\n",
       "      <td>black</td>\n",
       "      <td>jtezu11f88k007763</td>\n",
       "      <td>159348797</td>\n",
       "      <td>new jersey</td>\n",
       "      <td>usa</td>\n",
       "      <td>10 days left</td>\n",
       "    </tr>\n",
       "    <tr>\n",
       "      <th>1</th>\n",
       "      <td>2899</td>\n",
       "      <td>ford</td>\n",
       "      <td>se</td>\n",
       "      <td>2011</td>\n",
       "      <td>clean vehicle</td>\n",
       "      <td>190552.0</td>\n",
       "      <td>silver</td>\n",
       "      <td>2fmdk3gc4bbb02217</td>\n",
       "      <td>166951262</td>\n",
       "      <td>tennessee</td>\n",
       "      <td>usa</td>\n",
       "      <td>6 days left</td>\n",
       "    </tr>\n",
       "    <tr>\n",
       "      <th>2</th>\n",
       "      <td>5350</td>\n",
       "      <td>dodge</td>\n",
       "      <td>mpv</td>\n",
       "      <td>2018</td>\n",
       "      <td>clean vehicle</td>\n",
       "      <td>39590.0</td>\n",
       "      <td>silver</td>\n",
       "      <td>3c4pdcgg5jt346413</td>\n",
       "      <td>167655728</td>\n",
       "      <td>georgia</td>\n",
       "      <td>usa</td>\n",
       "      <td>2 days left</td>\n",
       "    </tr>\n",
       "    <tr>\n",
       "      <th>3</th>\n",
       "      <td>25000</td>\n",
       "      <td>ford</td>\n",
       "      <td>door</td>\n",
       "      <td>2014</td>\n",
       "      <td>clean vehicle</td>\n",
       "      <td>64146.0</td>\n",
       "      <td>blue</td>\n",
       "      <td>1ftfw1et4efc23745</td>\n",
       "      <td>167753855</td>\n",
       "      <td>virginia</td>\n",
       "      <td>usa</td>\n",
       "      <td>22 hours left</td>\n",
       "    </tr>\n",
       "    <tr>\n",
       "      <th>4</th>\n",
       "      <td>27700</td>\n",
       "      <td>chevrolet</td>\n",
       "      <td>1500</td>\n",
       "      <td>2018</td>\n",
       "      <td>clean vehicle</td>\n",
       "      <td>6654.0</td>\n",
       "      <td>red</td>\n",
       "      <td>3gcpcrec2jg473991</td>\n",
       "      <td>167763266</td>\n",
       "      <td>florida</td>\n",
       "      <td>usa</td>\n",
       "      <td>22 hours left</td>\n",
       "    </tr>\n",
       "  </tbody>\n",
       "</table>\n",
       "</div>"
      ],
      "text/plain": [
       "   price      brand    model  year   title_status   mileage   color  \\\n",
       "0   6300     toyota  cruiser  2008  clean vehicle  274117.0   black   \n",
       "1   2899       ford       se  2011  clean vehicle  190552.0  silver   \n",
       "2   5350      dodge      mpv  2018  clean vehicle   39590.0  silver   \n",
       "3  25000       ford     door  2014  clean vehicle   64146.0    blue   \n",
       "4  27700  chevrolet     1500  2018  clean vehicle    6654.0     red   \n",
       "\n",
       "                   vin        lot       state country      condition  \n",
       "0    jtezu11f88k007763  159348797  new jersey     usa   10 days left  \n",
       "1    2fmdk3gc4bbb02217  166951262   tennessee     usa    6 days left  \n",
       "2    3c4pdcgg5jt346413  167655728     georgia     usa    2 days left  \n",
       "3    1ftfw1et4efc23745  167753855    virginia     usa  22 hours left  \n",
       "4    3gcpcrec2jg473991  167763266     florida     usa  22 hours left  "
      ]
     },
     "execution_count": 139,
     "metadata": {},
     "output_type": "execute_result"
    }
   ],
   "source": [
    "data.head()"
   ]
  },
  {
   "cell_type": "markdown",
   "metadata": {},
   "source": [
    "## Let's check which car brand is most common in the dataset"
   ]
  },
  {
   "cell_type": "code",
   "execution_count": 140,
   "metadata": {},
   "outputs": [
    {
     "data": {
      "text/html": [
       "<div>\n",
       "<style scoped>\n",
       "    .dataframe tbody tr th:only-of-type {\n",
       "        vertical-align: middle;\n",
       "    }\n",
       "\n",
       "    .dataframe tbody tr th {\n",
       "        vertical-align: top;\n",
       "    }\n",
       "\n",
       "    .dataframe thead th {\n",
       "        text-align: right;\n",
       "    }\n",
       "</style>\n",
       "<table border=\"1\" class=\"dataframe\">\n",
       "  <thead>\n",
       "    <tr style=\"text-align: right;\">\n",
       "      <th></th>\n",
       "      <th>brand</th>\n",
       "      <th>model</th>\n",
       "    </tr>\n",
       "  </thead>\n",
       "  <tbody>\n",
       "    <tr>\n",
       "      <th>0</th>\n",
       "      <td>ford</td>\n",
       "      <td>1235</td>\n",
       "    </tr>\n",
       "    <tr>\n",
       "      <th>1</th>\n",
       "      <td>dodge</td>\n",
       "      <td>432</td>\n",
       "    </tr>\n",
       "    <tr>\n",
       "      <th>2</th>\n",
       "      <td>nissan</td>\n",
       "      <td>312</td>\n",
       "    </tr>\n",
       "    <tr>\n",
       "      <th>3</th>\n",
       "      <td>chevrolet</td>\n",
       "      <td>297</td>\n",
       "    </tr>\n",
       "    <tr>\n",
       "      <th>4</th>\n",
       "      <td>gmc</td>\n",
       "      <td>42</td>\n",
       "    </tr>\n",
       "    <tr>\n",
       "      <th>5</th>\n",
       "      <td>jeep</td>\n",
       "      <td>30</td>\n",
       "    </tr>\n",
       "    <tr>\n",
       "      <th>6</th>\n",
       "      <td>chrysler</td>\n",
       "      <td>18</td>\n",
       "    </tr>\n",
       "    <tr>\n",
       "      <th>7</th>\n",
       "      <td>bmw</td>\n",
       "      <td>17</td>\n",
       "    </tr>\n",
       "    <tr>\n",
       "      <th>8</th>\n",
       "      <td>hyundai</td>\n",
       "      <td>15</td>\n",
       "    </tr>\n",
       "    <tr>\n",
       "      <th>9</th>\n",
       "      <td>buick</td>\n",
       "      <td>13</td>\n",
       "    </tr>\n",
       "  </tbody>\n",
       "</table>\n",
       "</div>"
      ],
      "text/plain": [
       "       brand  model\n",
       "0       ford   1235\n",
       "1      dodge    432\n",
       "2     nissan    312\n",
       "3  chevrolet    297\n",
       "4        gmc     42\n",
       "5       jeep     30\n",
       "6   chrysler     18\n",
       "7        bmw     17\n",
       "8    hyundai     15\n",
       "9      buick     13"
      ]
     },
     "execution_count": 140,
     "metadata": {},
     "output_type": "execute_result"
    }
   ],
   "source": [
    "per_brand = data.groupby('brand').count().sort_values('model', ascending = False).reset_index()[['brand', 'model']].head(10)\n",
    "per_brand"
   ]
  },
  {
   "cell_type": "code",
   "execution_count": 141,
   "metadata": {},
   "outputs": [
    {
     "data": {
      "text/plain": [
       "Text(0.5, 1.0, 'Most represented Car brands in the dataset')"
      ]
     },
     "execution_count": 141,
     "metadata": {},
     "output_type": "execute_result"
    },
    {
     "data": {
      "image/png": "[encoded data removed]",
      "text/plain": [
       "<Figure size 1080x720 with 1 Axes>"
      ]
     },
     "metadata": {},
     "output_type": "display_data"
    }
   ],
   "source": [
    "plt.figure(figsize=(15,10))\n",
    "\n",
    "sns.barplot(data = per_brand, x = 'model', y = 'brand')\n",
    "plt.ylabel(\"Brand\")\n",
    "plt.xlabel(\"Occurrences\")\n",
    "plt.title(\"Most represented Car brands in the dataset\")"
   ]
  },
  {
   "cell_type": "code",
   "execution_count": 142,
   "metadata": {},
   "outputs": [],
   "source": [
    "#data['condition'].value_counts()/len(data)*100"
   ]
  },
  {
   "cell_type": "markdown",
   "metadata": {},
   "source": [
    "## Price"
   ]
  },
  {
   "cell_type": "code",
   "execution_count": 143,
   "metadata": {},
   "outputs": [
    {
     "data": {
      "text/plain": [
       "<matplotlib.axes._subplots.AxesSubplot at 0x7faec04b6310>"
      ]
     },
     "execution_count": 143,
     "metadata": {},
     "output_type": "execute_result"
    },
    {
     "data": {
      "image/png": "[encoded data removed]",
      "text/plain": [
       "<Figure size 864x504 with 1 Axes>"
      ]
     },
     "metadata": {},
     "output_type": "display_data"
    }
   ],
   "source": [
    "plt.figure(figsize=(12,7))\n",
    "\n",
    "sns.distplot(data['price'], kde = False, color = 'purple')"
   ]
  },
  {
   "cell_type": "markdown",
   "metadata": {},
   "source": [
    "__We can see a positive skew of our dependent variable.__"
   ]
  },
  {
   "cell_type": "code",
   "execution_count": 144,
   "metadata": {},
   "outputs": [
    {
     "name": "stdout",
     "output_type": "stream",
     "text": [
      "2499\n",
      "\n",
      "\n",
      "2278\n"
     ]
    }
   ],
   "source": [
    "print(len(data))\n",
    "print('\\n')\n",
    "print(len(data[data['price'] < 35000]))"
   ]
  },
  {
   "cell_type": "markdown",
   "metadata": {},
   "source": [
    "__Leaving out cars with prices above 35K only reduces the data by ~300 data points.__"
   ]
  },
  {
   "cell_type": "code",
   "execution_count": 145,
   "metadata": {},
   "outputs": [],
   "source": [
    "data = data[data['price'] < 35000]"
   ]
  },
  {
   "cell_type": "code",
   "execution_count": 146,
   "metadata": {},
   "outputs": [
    {
     "data": {
      "text/plain": [
       "<matplotlib.axes._subplots.AxesSubplot at 0x7faec03c8f70>"
      ]
     },
     "execution_count": 146,
     "metadata": {},
     "output_type": "execute_result"
    },
    {
     "data": {
      "image/png": "[encoded data removed]",
      "text/plain": [
       "<Figure size 864x504 with 1 Axes>"
      ]
     },
     "metadata": {},
     "output_type": "display_data"
    }
   ],
   "source": [
    "plt.figure(figsize=(12,7))\n",
    "\n",
    "sns.distplot(data['price'], kde = False, color = 'purple', bins = 40)"
   ]
  },
  {
   "cell_type": "markdown",
   "metadata": {},
   "source": [
    "## Mileage"
   ]
  },
  {
   "cell_type": "code",
   "execution_count": 147,
   "metadata": {},
   "outputs": [
    {
     "data": {
      "text/plain": [
       "<matplotlib.axes._subplots.AxesSubplot at 0x7faed83462b0>"
      ]
     },
     "execution_count": 147,
     "metadata": {},
     "output_type": "execute_result"
    },
    {
     "data": {
      "image/png": "[encoded data removed]",
      "text/plain": [
       "<Figure size 864x504 with 1 Axes>"
      ]
     },
     "metadata": {},
     "output_type": "display_data"
    }
   ],
   "source": [
    "plt.figure(figsize=(12,7))\n",
    "\n",
    "sns.distplot(data['mileage'], kde = False)"
   ]
  },
  {
   "cell_type": "code",
   "execution_count": 148,
   "metadata": {},
   "outputs": [
    {
     "data": {
      "text/html": [
       "<div>\n",
       "<style scoped>\n",
       "    .dataframe tbody tr th:only-of-type {\n",
       "        vertical-align: middle;\n",
       "    }\n",
       "\n",
       "    .dataframe tbody tr th {\n",
       "        vertical-align: top;\n",
       "    }\n",
       "\n",
       "    .dataframe thead th {\n",
       "        text-align: right;\n",
       "    }\n",
       "</style>\n",
       "<table border=\"1\" class=\"dataframe\">\n",
       "  <thead>\n",
       "    <tr style=\"text-align: right;\">\n",
       "      <th></th>\n",
       "      <th>price</th>\n",
       "      <th>brand</th>\n",
       "      <th>model</th>\n",
       "      <th>year</th>\n",
       "      <th>title_status</th>\n",
       "      <th>mileage</th>\n",
       "      <th>color</th>\n",
       "      <th>vin</th>\n",
       "      <th>lot</th>\n",
       "      <th>state</th>\n",
       "      <th>country</th>\n",
       "      <th>condition</th>\n",
       "    </tr>\n",
       "  </thead>\n",
       "  <tbody>\n",
       "    <tr>\n",
       "      <th>528</th>\n",
       "      <td>1025</td>\n",
       "      <td>peterbilt</td>\n",
       "      <td>truck</td>\n",
       "      <td>2010</td>\n",
       "      <td>salvage insurance</td>\n",
       "      <td>1017936.0</td>\n",
       "      <td>color:</td>\n",
       "      <td>1xp7d49x0ad793710</td>\n",
       "      <td>167529842</td>\n",
       "      <td>georgia</td>\n",
       "      <td>usa</td>\n",
       "      <td>17 hours left</td>\n",
       "    </tr>\n",
       "  </tbody>\n",
       "</table>\n",
       "</div>"
      ],
      "text/plain": [
       "     price      brand  model  year       title_status    mileage   color  \\\n",
       "528   1025  peterbilt  truck  2010  salvage insurance  1017936.0  color:   \n",
       "\n",
       "                     vin        lot    state country      condition  \n",
       "528    1xp7d49x0ad793710  167529842  georgia     usa  17 hours left  "
      ]
     },
     "execution_count": 148,
     "metadata": {},
     "output_type": "execute_result"
    }
   ],
   "source": [
    "data[data['mileage'] == data['mileage'].max()] # more than 1 mio miles"
   ]
  },
  {
   "cell_type": "code",
   "execution_count": 149,
   "metadata": {},
   "outputs": [
    {
     "name": "stdout",
     "output_type": "stream",
     "text": [
      "2278\n",
      "\n",
      "\n",
      "1766\n"
     ]
    }
   ],
   "source": [
    "print(len(data))\n",
    "print(\"\\n\")\n",
    "print(len(data[data['mileage'] <= 75000]))\n",
    "\n",
    "data = data[data['mileage'] <= 75000]"
   ]
  },
  {
   "cell_type": "code",
   "execution_count": 150,
   "metadata": {},
   "outputs": [
    {
     "data": {
      "text/plain": [
       "<matplotlib.axes._subplots.AxesSubplot at 0x7faecc1ba070>"
      ]
     },
     "execution_count": 150,
     "metadata": {},
     "output_type": "execute_result"
    },
    {
     "data": {
      "image/png": "[encoded data removed]",
      "text/plain": [
       "<Figure size 864x504 with 1 Axes>"
      ]
     },
     "metadata": {},
     "output_type": "display_data"
    }
   ],
   "source": [
    "plt.figure(figsize=(12,7))\n",
    "\n",
    "sns.distplot(data['mileage'], kde = False)"
   ]
  },
  {
   "cell_type": "code",
   "execution_count": 151,
   "metadata": {},
   "outputs": [
    {
     "data": {
      "text/html": [
       "<div>\n",
       "<style scoped>\n",
       "    .dataframe tbody tr th:only-of-type {\n",
       "        vertical-align: middle;\n",
       "    }\n",
       "\n",
       "    .dataframe tbody tr th {\n",
       "        vertical-align: top;\n",
       "    }\n",
       "\n",
       "    .dataframe thead th {\n",
       "        text-align: right;\n",
       "    }\n",
       "</style>\n",
       "<table border=\"1\" class=\"dataframe\">\n",
       "  <thead>\n",
       "    <tr style=\"text-align: right;\">\n",
       "      <th></th>\n",
       "      <th>price</th>\n",
       "      <th>brand</th>\n",
       "      <th>model</th>\n",
       "      <th>year</th>\n",
       "      <th>title_status</th>\n",
       "      <th>mileage</th>\n",
       "      <th>color</th>\n",
       "      <th>vin</th>\n",
       "      <th>lot</th>\n",
       "      <th>state</th>\n",
       "      <th>country</th>\n",
       "      <th>condition</th>\n",
       "    </tr>\n",
       "  </thead>\n",
       "  <tbody>\n",
       "    <tr>\n",
       "      <th>2</th>\n",
       "      <td>5350</td>\n",
       "      <td>dodge</td>\n",
       "      <td>mpv</td>\n",
       "      <td>2018</td>\n",
       "      <td>clean vehicle</td>\n",
       "      <td>39590.0</td>\n",
       "      <td>silver</td>\n",
       "      <td>3c4pdcgg5jt346413</td>\n",
       "      <td>167655728</td>\n",
       "      <td>georgia</td>\n",
       "      <td>usa</td>\n",
       "      <td>2 days left</td>\n",
       "    </tr>\n",
       "    <tr>\n",
       "      <th>3</th>\n",
       "      <td>25000</td>\n",
       "      <td>ford</td>\n",
       "      <td>door</td>\n",
       "      <td>2014</td>\n",
       "      <td>clean vehicle</td>\n",
       "      <td>64146.0</td>\n",
       "      <td>blue</td>\n",
       "      <td>1ftfw1et4efc23745</td>\n",
       "      <td>167753855</td>\n",
       "      <td>virginia</td>\n",
       "      <td>usa</td>\n",
       "      <td>22 hours left</td>\n",
       "    </tr>\n",
       "    <tr>\n",
       "      <th>4</th>\n",
       "      <td>27700</td>\n",
       "      <td>chevrolet</td>\n",
       "      <td>1500</td>\n",
       "      <td>2018</td>\n",
       "      <td>clean vehicle</td>\n",
       "      <td>6654.0</td>\n",
       "      <td>red</td>\n",
       "      <td>3gcpcrec2jg473991</td>\n",
       "      <td>167763266</td>\n",
       "      <td>florida</td>\n",
       "      <td>usa</td>\n",
       "      <td>22 hours left</td>\n",
       "    </tr>\n",
       "    <tr>\n",
       "      <th>5</th>\n",
       "      <td>5700</td>\n",
       "      <td>dodge</td>\n",
       "      <td>mpv</td>\n",
       "      <td>2018</td>\n",
       "      <td>clean vehicle</td>\n",
       "      <td>45561.0</td>\n",
       "      <td>white</td>\n",
       "      <td>2c4rdgeg9jr237989</td>\n",
       "      <td>167655771</td>\n",
       "      <td>texas</td>\n",
       "      <td>usa</td>\n",
       "      <td>2 days left</td>\n",
       "    </tr>\n",
       "    <tr>\n",
       "      <th>7</th>\n",
       "      <td>13350</td>\n",
       "      <td>gmc</td>\n",
       "      <td>door</td>\n",
       "      <td>2017</td>\n",
       "      <td>clean vehicle</td>\n",
       "      <td>23525.0</td>\n",
       "      <td>gray</td>\n",
       "      <td>1gks2gkc3hr326762</td>\n",
       "      <td>167692494</td>\n",
       "      <td>california</td>\n",
       "      <td>usa</td>\n",
       "      <td>20 hours left</td>\n",
       "    </tr>\n",
       "  </tbody>\n",
       "</table>\n",
       "</div>"
      ],
      "text/plain": [
       "   price      brand model  year   title_status  mileage   color  \\\n",
       "2   5350      dodge   mpv  2018  clean vehicle  39590.0  silver   \n",
       "3  25000       ford  door  2014  clean vehicle  64146.0    blue   \n",
       "4  27700  chevrolet  1500  2018  clean vehicle   6654.0     red   \n",
       "5   5700      dodge   mpv  2018  clean vehicle  45561.0   white   \n",
       "7  13350        gmc  door  2017  clean vehicle  23525.0    gray   \n",
       "\n",
       "                   vin        lot       state country      condition  \n",
       "2    3c4pdcgg5jt346413  167655728     georgia     usa    2 days left  \n",
       "3    1ftfw1et4efc23745  167753855    virginia     usa  22 hours left  \n",
       "4    3gcpcrec2jg473991  167763266     florida     usa  22 hours left  \n",
       "5    2c4rdgeg9jr237989  167655771       texas     usa    2 days left  \n",
       "7    1gks2gkc3hr326762  167692494  california     usa  20 hours left  "
      ]
     },
     "execution_count": 151,
     "metadata": {},
     "output_type": "execute_result"
    }
   ],
   "source": [
    "data.head()"
   ]
  },
  {
   "cell_type": "markdown",
   "metadata": {},
   "source": [
    "## Salvage"
   ]
  },
  {
   "cell_type": "code",
   "execution_count": 152,
   "metadata": {},
   "outputs": [
    {
     "data": {
      "text/plain": [
       "clean vehicle        1736\n",
       "salvage insurance      30\n",
       "Name: title_status, dtype: int64"
      ]
     },
     "execution_count": 152,
     "metadata": {},
     "output_type": "execute_result"
    }
   ],
   "source": [
    "data['title_status'].value_counts()"
   ]
  },
  {
   "cell_type": "markdown",
   "metadata": {},
   "source": [
    "__Drop salvage cars and other variables not important for the analysis__"
   ]
  },
  {
   "cell_type": "markdown",
   "metadata": {},
   "source": [
    "__lot, state and country can of course have an influence on price but  for the current models i decided not to regard those variables__"
   ]
  },
  {
   "cell_type": "code",
   "execution_count": 153,
   "metadata": {},
   "outputs": [],
   "source": [
    "data = data[data['title_status'] == 'clean vehicle']\n",
    "data.drop(['title_status', 'color', 'vin', 'lot',], axis=1, inplace=True)"
   ]
  },
  {
   "cell_type": "code",
   "execution_count": 154,
   "metadata": {},
   "outputs": [
    {
     "data": {
      "text/plain": [
       "Index(['price', 'brand', 'model', 'year', 'mileage', 'state', 'country',\n",
       "       'condition'],\n",
       "      dtype='object')"
      ]
     },
     "execution_count": 154,
     "metadata": {},
     "output_type": "execute_result"
    }
   ],
   "source": [
    "data.columns"
   ]
  },
  {
   "cell_type": "markdown",
   "metadata": {},
   "source": [
    "## Year"
   ]
  },
  {
   "cell_type": "code",
   "execution_count": 155,
   "metadata": {},
   "outputs": [
    {
     "data": {
      "text/plain": [
       "2019    769\n",
       "2018    356\n",
       "2017    284\n",
       "2016    127\n",
       "2015    102\n",
       "2020     38\n",
       "2014     36\n",
       "2013      9\n",
       "2012      6\n",
       "2011      2\n",
       "2010      2\n",
       "2009      1\n",
       "2008      1\n",
       "2006      1\n",
       "2003      1\n",
       "1973      1\n",
       "Name: year, dtype: int64"
      ]
     },
     "execution_count": 155,
     "metadata": {},
     "output_type": "execute_result"
    }
   ],
   "source": [
    "data['year'].value_counts()"
   ]
  },
  {
   "cell_type": "code",
   "execution_count": 156,
   "metadata": {},
   "outputs": [],
   "source": [
    "# only regard the years with a lot of observations\n",
    "\n",
    "data = data[(data['year'] == 2019) | (data['year'] == 2018) | (data['year'] == 2017) | (data['year'] == 2016) | (data['year'] == 2015)]   "
   ]
  },
  {
   "cell_type": "code",
   "execution_count": 157,
   "metadata": {},
   "outputs": [
    {
     "name": "stdout",
     "output_type": "stream",
     "text": [
      "<class 'pandas.core.frame.DataFrame'>\n",
      "Int64Index: 1638 entries, 2 to 2498\n",
      "Data columns (total 8 columns):\n",
      " #   Column     Non-Null Count  Dtype  \n",
      "---  ------     --------------  -----  \n",
      " 0   price      1638 non-null   int64  \n",
      " 1   brand      1638 non-null   object \n",
      " 2   model      1638 non-null   object \n",
      " 3   year       1638 non-null   int64  \n",
      " 4   mileage    1638 non-null   float64\n",
      " 5   state      1638 non-null   object \n",
      " 6   country    1638 non-null   object \n",
      " 7   condition  1638 non-null   object \n",
      "dtypes: float64(1), int64(2), object(5)\n",
      "memory usage: 115.2+ KB\n"
     ]
    }
   ],
   "source": [
    "data.info()"
   ]
  },
  {
   "cell_type": "code",
   "execution_count": 158,
   "metadata": {},
   "outputs": [
    {
     "data": {
      "text/plain": [
       "Index(['price', 'brand', 'model', 'year', 'mileage', 'state', 'country',\n",
       "       'condition'],\n",
       "      dtype='object')"
      ]
     },
     "execution_count": 158,
     "metadata": {},
     "output_type": "execute_result"
    }
   ],
   "source": [
    "data.columns"
   ]
  },
  {
   "cell_type": "markdown",
   "metadata": {},
   "source": [
    "## Dummy variables"
   ]
  },
  {
   "cell_type": "markdown",
   "metadata": {},
   "source": [
    "__Encode categorcial values as dummies.__"
   ]
  },
  {
   "cell_type": "code",
   "execution_count": 159,
   "metadata": {},
   "outputs": [],
   "source": [
    "data = pd.concat([data,pd.get_dummies(data['brand'],prefix=\"brand\")],axis=1)\n",
    "data.drop('brand', axis=1, inplace=True)\n",
    "\n",
    "data = pd.concat([data,pd.get_dummies(data['model'],prefix=\"model\")],axis=1)\n",
    "data.drop('model', axis=1, inplace=True)\n",
    "\n",
    "data = pd.concat([data,pd.get_dummies(data['year'],prefix=\"year\")],axis=1)\n",
    "data.drop('year', axis=1, inplace=True)\n",
    "\n",
    "data = pd.concat([data,pd.get_dummies(data['condition'],prefix=\"condition\")],axis=1)\n",
    "data.drop('condition', axis=1, inplace=True)\n",
    "\n",
    "data = pd.concat([data,pd.get_dummies(data['state'],prefix=\"state\")],axis=1)\n",
    "data.drop('state', axis=1, inplace=True)\n",
    "\n",
    "data = pd.concat([data,pd.get_dummies(data['country'],prefix=\"country\")],axis=1)\n",
    "data.drop('country', axis=1, inplace=True)"
   ]
  },
  {
   "cell_type": "code",
   "execution_count": 118,
   "metadata": {},
   "outputs": [],
   "source": []
  },
  {
   "cell_type": "code",
   "execution_count": 160,
   "metadata": {},
   "outputs": [],
   "source": [
    "from scipy.stats import zscore"
   ]
  },
  {
   "cell_type": "markdown",
   "metadata": {},
   "source": [
    "__Standardize mileage variable__"
   ]
  },
  {
   "cell_type": "code",
   "execution_count": 161,
   "metadata": {},
   "outputs": [],
   "source": [
    "data['mileage'] = zscore(data['mileage'])"
   ]
  },
  {
   "cell_type": "code",
   "execution_count": 162,
   "metadata": {},
   "outputs": [
    {
     "data": {
      "text/plain": [
       "(1638, 202)"
      ]
     },
     "execution_count": 162,
     "metadata": {},
     "output_type": "execute_result"
    }
   ],
   "source": [
    "data.shape"
   ]
  },
  {
   "cell_type": "code",
   "execution_count": 163,
   "metadata": {},
   "outputs": [],
   "source": [
    "from sklearn.model_selection import train_test_split"
   ]
  },
  {
   "cell_type": "code",
   "execution_count": 164,
   "metadata": {},
   "outputs": [],
   "source": [
    "X = data.drop('price', axis = 1).values\n",
    "y = data['price'].values"
   ]
  },
  {
   "cell_type": "code",
   "execution_count": 165,
   "metadata": {},
   "outputs": [],
   "source": [
    "X_train, X_test, y_train, y_test = train_test_split(X, y, test_size=0.4, random_state=101)"
   ]
  },
  {
   "cell_type": "code",
   "execution_count": 183,
   "metadata": {
    "scrolled": true
   },
   "outputs": [
    {
     "name": "stdout",
     "output_type": "stream",
     "text": [
      "Model: \"sequential_8\"\n",
      "_________________________________________________________________\n",
      "Layer (type)                 Output Shape              Param #   \n",
      "=================================================================\n",
      "dense_29 (Dense)             (None, 100)               20200     \n",
      "_________________________________________________________________\n",
      "dropout_14 (Dropout)         (None, 100)               0         \n",
      "_________________________________________________________________\n",
      "dense_30 (Dense)             (None, 50)                5050      \n",
      "_________________________________________________________________\n",
      "dropout_15 (Dropout)         (None, 50)                0         \n",
      "_________________________________________________________________\n",
      "dense_31 (Dense)             (None, 25)                1275      \n",
      "_________________________________________________________________\n",
      "dense_32 (Dense)             (None, 1)                 26        \n",
      "=================================================================\n",
      "Total params: 26,551\n",
      "Trainable params: 26,551\n",
      "Non-trainable params: 0\n",
      "_________________________________________________________________\n"
     ]
    }
   ],
   "source": [
    "from tensorflow.keras.models import Sequential\n",
    "from tensorflow.keras.layers import Dense, Activation, Dropout\n",
    "from tensorflow.keras.callbacks import EarlyStopping\n",
    "\n",
    "# Build the neural network\n",
    "model = Sequential()\n",
    "model.add(Dense(100, input_dim=X.shape[1], activation='relu')) # Hidden 1\n",
    "model.add(Dropout(0.4))\n",
    "model.add(Dense(50, activation='linear')) # Hidden 2\n",
    "model.add(Dropout(0.2))\n",
    "model.add(Dense(25, activation='linear'))\n",
    "model.add(Dense(1)) # Output\n",
    "\n",
    "\n",
    "model.compile(loss='mean_squared_error', optimizer='adam')\n",
    "\n",
    "monitor = EarlyStopping(monitor='val_loss', min_delta=1e-3, \n",
    "                        patience=5, verbose=1, mode='auto', \n",
    "                        restore_best_weights=True)\n",
    "model.summary()"
   ]
  },
  {
   "cell_type": "code",
   "execution_count": 184,
   "metadata": {},
   "outputs": [
    {
     "name": "stdout",
     "output_type": "stream",
     "text": [
      "Epoch 1/1000\n",
      "25/25 [==============================] - 0s 5ms/step - loss: 417481696.0000 - val_loss: 404685184.0000\n",
      "Epoch 2/1000\n",
      "25/25 [==============================] - 0s 3ms/step - loss: 416700672.0000 - val_loss: 403058464.0000\n",
      "Epoch 3/1000\n",
      "25/25 [==============================] - 0s 3ms/step - loss: 413037024.0000 - val_loss: 396177760.0000\n",
      "Epoch 4/1000\n",
      "25/25 [==============================] - 0s 2ms/step - loss: 400303072.0000 - val_loss: 375097280.0000\n",
      "Epoch 5/1000\n",
      "25/25 [==============================] - 0s 2ms/step - loss: 366760832.0000 - val_loss: 326620064.0000\n",
      "Epoch 6/1000\n",
      "25/25 [==============================] - 0s 3ms/step - loss: 299231104.0000 - val_loss: 242027216.0000\n",
      "Epoch 7/1000\n",
      "25/25 [==============================] - 0s 3ms/step - loss: 199897824.0000 - val_loss: 138444128.0000\n",
      "Epoch 8/1000\n",
      "25/25 [==============================] - 0s 3ms/step - loss: 104299000.0000 - val_loss: 64528092.0000\n",
      "Epoch 9/1000\n",
      "25/25 [==============================] - 0s 3ms/step - loss: 59391060.0000 - val_loss: 46704956.0000\n",
      "Epoch 10/1000\n",
      "25/25 [==============================] - 0s 3ms/step - loss: 51013832.0000 - val_loss: 43608184.0000\n",
      "Epoch 11/1000\n",
      "25/25 [==============================] - 0s 2ms/step - loss: 48113232.0000 - val_loss: 41561004.0000\n",
      "Epoch 12/1000\n",
      "25/25 [==============================] - 0s 3ms/step - loss: 44702152.0000 - val_loss: 39876300.0000\n",
      "Epoch 13/1000\n",
      "25/25 [==============================] - 0s 3ms/step - loss: 43254536.0000 - val_loss: 38405256.0000\n",
      "Epoch 14/1000\n",
      "25/25 [==============================] - 0s 3ms/step - loss: 40299168.0000 - val_loss: 37164972.0000\n",
      "Epoch 15/1000\n",
      "25/25 [==============================] - 0s 3ms/step - loss: 38144036.0000 - val_loss: 36106360.0000\n",
      "Epoch 16/1000\n",
      "25/25 [==============================] - 0s 3ms/step - loss: 38075076.0000 - val_loss: 35210856.0000\n",
      "Epoch 17/1000\n",
      "25/25 [==============================] - 0s 3ms/step - loss: 35576984.0000 - val_loss: 34418476.0000\n",
      "Epoch 18/1000\n",
      "25/25 [==============================] - 0s 2ms/step - loss: 34708216.0000 - val_loss: 33708648.0000\n",
      "Epoch 19/1000\n",
      "25/25 [==============================] - 0s 3ms/step - loss: 34383740.0000 - val_loss: 33091876.0000\n",
      "Epoch 20/1000\n",
      "25/25 [==============================] - 0s 3ms/step - loss: 33148956.0000 - val_loss: 32505646.0000\n",
      "Epoch 21/1000\n",
      "25/25 [==============================] - 0s 3ms/step - loss: 33224558.0000 - val_loss: 31911200.0000\n",
      "Epoch 22/1000\n",
      "25/25 [==============================] - 0s 3ms/step - loss: 32180072.0000 - val_loss: 31416192.0000\n",
      "Epoch 23/1000\n",
      "25/25 [==============================] - 0s 3ms/step - loss: 31179612.0000 - val_loss: 30980988.0000\n",
      "Epoch 24/1000\n",
      "25/25 [==============================] - 0s 3ms/step - loss: 29845514.0000 - val_loss: 30631638.0000\n",
      "Epoch 25/1000\n",
      "25/25 [==============================] - 0s 3ms/step - loss: 28268492.0000 - val_loss: 30331688.0000\n",
      "Epoch 26/1000\n",
      "25/25 [==============================] - 0s 3ms/step - loss: 27539918.0000 - val_loss: 30003110.0000\n",
      "Epoch 27/1000\n",
      "25/25 [==============================] - 0s 2ms/step - loss: 27297598.0000 - val_loss: 29683836.0000\n",
      "Epoch 28/1000\n",
      "25/25 [==============================] - 0s 2ms/step - loss: 27937460.0000 - val_loss: 29506194.0000\n",
      "Epoch 29/1000\n",
      "25/25 [==============================] - 0s 3ms/step - loss: 26525668.0000 - val_loss: 29154106.0000\n",
      "Epoch 30/1000\n",
      "25/25 [==============================] - 0s 3ms/step - loss: 24179546.0000 - val_loss: 29011242.0000\n",
      "Epoch 31/1000\n",
      "25/25 [==============================] - 0s 2ms/step - loss: 25440580.0000 - val_loss: 28693790.0000\n",
      "Epoch 32/1000\n",
      "25/25 [==============================] - 0s 2ms/step - loss: 24153746.0000 - val_loss: 28487646.0000\n",
      "Epoch 33/1000\n",
      "25/25 [==============================] - 0s 3ms/step - loss: 25211508.0000 - val_loss: 28284842.0000\n",
      "Epoch 34/1000\n",
      "25/25 [==============================] - 0s 3ms/step - loss: 24220016.0000 - val_loss: 28128414.0000\n",
      "Epoch 35/1000\n",
      "25/25 [==============================] - 0s 3ms/step - loss: 23590884.0000 - val_loss: 27936596.0000\n",
      "Epoch 36/1000\n",
      "25/25 [==============================] - 0s 3ms/step - loss: 23268168.0000 - val_loss: 27772374.0000\n",
      "Epoch 37/1000\n",
      "25/25 [==============================] - 0s 3ms/step - loss: 21996584.0000 - val_loss: 27709758.0000\n",
      "Epoch 38/1000\n",
      "25/25 [==============================] - 0s 2ms/step - loss: 23628668.0000 - val_loss: 27519038.0000\n",
      "Epoch 39/1000\n",
      "25/25 [==============================] - 0s 3ms/step - loss: 22040848.0000 - val_loss: 27303564.0000\n",
      "Epoch 40/1000\n",
      "25/25 [==============================] - 0s 3ms/step - loss: 20777156.0000 - val_loss: 27111444.0000\n",
      "Epoch 41/1000\n",
      "25/25 [==============================] - 0s 3ms/step - loss: 21700884.0000 - val_loss: 27038514.0000\n",
      "Epoch 42/1000\n",
      "25/25 [==============================] - 0s 3ms/step - loss: 21126788.0000 - val_loss: 26822586.0000\n",
      "Epoch 43/1000\n",
      "25/25 [==============================] - 0s 3ms/step - loss: 21956610.0000 - val_loss: 26760316.0000\n",
      "Epoch 44/1000\n",
      "25/25 [==============================] - 0s 3ms/step - loss: 20642632.0000 - val_loss: 26678044.0000\n",
      "Epoch 45/1000\n",
      "25/25 [==============================] - 0s 3ms/step - loss: 22000448.0000 - val_loss: 26624388.0000\n",
      "Epoch 46/1000\n",
      "25/25 [==============================] - 0s 3ms/step - loss: 19868698.0000 - val_loss: 26596406.0000\n",
      "Epoch 47/1000\n",
      "25/25 [==============================] - 0s 3ms/step - loss: 21377424.0000 - val_loss: 26452976.0000\n",
      "Epoch 48/1000\n",
      "25/25 [==============================] - 0s 3ms/step - loss: 20204708.0000 - val_loss: 26343624.0000\n",
      "Epoch 49/1000\n",
      "25/25 [==============================] - 0s 2ms/step - loss: 20379558.0000 - val_loss: 26234874.0000\n",
      "Epoch 50/1000\n",
      "25/25 [==============================] - 0s 3ms/step - loss: 20956350.0000 - val_loss: 26291336.0000\n",
      "Epoch 51/1000\n",
      "25/25 [==============================] - 0s 3ms/step - loss: 20196332.0000 - val_loss: 26176990.0000\n",
      "Epoch 52/1000\n",
      "25/25 [==============================] - 0s 3ms/step - loss: 20084520.0000 - val_loss: 26055032.0000\n",
      "Epoch 53/1000\n",
      "25/25 [==============================] - 0s 3ms/step - loss: 19963390.0000 - val_loss: 26243698.0000\n",
      "Epoch 54/1000\n",
      "25/25 [==============================] - 0s 3ms/step - loss: 19237724.0000 - val_loss: 26005116.0000\n",
      "Epoch 55/1000\n",
      "25/25 [==============================] - 0s 3ms/step - loss: 19387482.0000 - val_loss: 26040266.0000\n",
      "Epoch 56/1000\n",
      "25/25 [==============================] - 0s 2ms/step - loss: 19865238.0000 - val_loss: 25981226.0000\n",
      "Epoch 57/1000\n",
      "25/25 [==============================] - 0s 3ms/step - loss: 20633974.0000 - val_loss: 26146874.0000\n",
      "Epoch 58/1000\n",
      "25/25 [==============================] - 0s 2ms/step - loss: 19008802.0000 - val_loss: 25937434.0000\n",
      "Epoch 59/1000\n",
      "25/25 [==============================] - 0s 2ms/step - loss: 18714460.0000 - val_loss: 25989416.0000\n",
      "Epoch 60/1000\n",
      "25/25 [==============================] - 0s 3ms/step - loss: 18336882.0000 - val_loss: 25893176.0000\n",
      "Epoch 61/1000\n",
      "25/25 [==============================] - 0s 2ms/step - loss: 18544090.0000 - val_loss: 25924410.0000\n",
      "Epoch 62/1000\n",
      "25/25 [==============================] - 0s 2ms/step - loss: 19559334.0000 - val_loss: 25800204.0000\n",
      "Epoch 63/1000\n",
      "25/25 [==============================] - 0s 3ms/step - loss: 18398692.0000 - val_loss: 25753174.0000\n",
      "Epoch 64/1000\n",
      "25/25 [==============================] - 0s 3ms/step - loss: 18395474.0000 - val_loss: 25775842.0000\n",
      "Epoch 65/1000\n",
      "25/25 [==============================] - 0s 2ms/step - loss: 19262440.0000 - val_loss: 25834550.0000\n",
      "Epoch 66/1000\n",
      "25/25 [==============================] - 0s 3ms/step - loss: 18444488.0000 - val_loss: 25698202.0000\n",
      "Epoch 67/1000\n",
      "25/25 [==============================] - 0s 2ms/step - loss: 18143910.0000 - val_loss: 25710772.0000\n",
      "Epoch 68/1000\n",
      "25/25 [==============================] - 0s 3ms/step - loss: 17567790.0000 - val_loss: 25761916.0000\n",
      "Epoch 69/1000\n",
      "25/25 [==============================] - 0s 2ms/step - loss: 18903116.0000 - val_loss: 25600044.0000\n",
      "Epoch 70/1000\n",
      "25/25 [==============================] - 0s 2ms/step - loss: 18234322.0000 - val_loss: 25683292.0000\n",
      "Epoch 71/1000\n",
      "25/25 [==============================] - 0s 2ms/step - loss: 16943222.0000 - val_loss: 25682492.0000\n",
      "Epoch 72/1000\n"
     ]
    },
    {
     "name": "stdout",
     "output_type": "stream",
     "text": [
      "25/25 [==============================] - 0s 2ms/step - loss: 17133150.0000 - val_loss: 25657156.0000\n",
      "Epoch 73/1000\n",
      "25/25 [==============================] - 0s 3ms/step - loss: 18099034.0000 - val_loss: 25867332.0000\n",
      "Epoch 74/1000\n",
      " 1/25 [>.............................] - ETA: 0s - loss: 17951136.0000Restoring model weights from the end of the best epoch.\n",
      "25/25 [==============================] - 0s 3ms/step - loss: 17582378.0000 - val_loss: 25742776.0000\n",
      "Epoch 00074: early stopping\n"
     ]
    }
   ],
   "source": [
    "history = model.fit(X_train,y_train,validation_split=0.2,\n",
    "          callbacks=[monitor],verbose=1,epochs=1000)"
   ]
  },
  {
   "cell_type": "markdown",
   "metadata": {},
   "source": [
    "__Check for overfitting (not expected as early stopping is implemented)__"
   ]
  },
  {
   "cell_type": "code",
   "execution_count": 185,
   "metadata": {},
   "outputs": [
    {
     "data": {
      "image/png": "[encoded data removed]",
      "text/plain": [
       "<Figure size 432x288 with 1 Axes>"
      ]
     },
     "metadata": {},
     "output_type": "display_data"
    }
   ],
   "source": [
    "plt.plot(history.history['loss'])\n",
    "plt.plot(history.history['val_loss'])\n",
    "plt.title('model train vs validation loss')\n",
    "plt.ylabel('loss')\n",
    "plt.xlabel('epoch')\n",
    "plt.legend(['train', 'validation'], loc='upper right')\n",
    "plt.show()"
   ]
  },
  {
   "cell_type": "code",
   "execution_count": 186,
   "metadata": {},
   "outputs": [
    {
     "name": "stdout",
     "output_type": "stream",
     "text": [
      "Final score (MSE): 23473104.878584664\n"
     ]
    }
   ],
   "source": [
    "from sklearn import metrics\n",
    "\n",
    "# Predict\n",
    "pred = model.predict(X_test)\n",
    "\n",
    "# Measure MSE error.  \n",
    "score = metrics.mean_squared_error(pred,y_test)\n",
    "print(\"Final score (MSE): {}\".format(score))"
   ]
  },
  {
   "cell_type": "code",
   "execution_count": 187,
   "metadata": {},
   "outputs": [
    {
     "name": "stdout",
     "output_type": "stream",
     "text": [
      "Final score (RMSE): 4844.90504329906\n"
     ]
    }
   ],
   "source": [
    "# Measure RMSE error.  RMSE is common for regression.\n",
    "score = np.sqrt(metrics.mean_squared_error(pred,y_test))\n",
    "print(\"Final score (RMSE): {}\".format(score))"
   ]
  },
  {
   "cell_type": "markdown",
   "metadata": {},
   "source": [
    "__Plot Lift curve__"
   ]
  },
  {
   "cell_type": "code",
   "execution_count": 188,
   "metadata": {},
   "outputs": [],
   "source": [
    "# Regression chart.\n",
    "def chart_regression(pred, y, sort=True):\n",
    "    t = pd.DataFrame({'pred': pred, 'y': y.flatten()})\n",
    "    if sort:\n",
    "        t.sort_values(by=['y'], inplace=True)\n",
    "    plt.plot(t['y'].tolist(), label='expected')\n",
    "    plt.plot(t['pred'].tolist(), label='prediction')\n",
    "    plt.ylabel('output')\n",
    "    plt.legend()\n",
    "    plt.show()\n",
    "\n"
   ]
  },
  {
   "cell_type": "code",
   "execution_count": 172,
   "metadata": {},
   "outputs": [
    {
     "data": {
      "image/png": "[encoded data removed]",
      "text/plain": [
       "<Figure size 432x288 with 1 Axes>"
      ]
     },
     "metadata": {},
     "output_type": "display_data"
    }
   ],
   "source": [
    "chart_regression(pred.flatten(),y_test)"
   ]
  },
  {
   "cell_type": "markdown",
   "metadata": {},
   "source": [
    "The RMSE is 4900 Dollars. On average, the predicted value is off by this amount."
   ]
  }
 ],
 "metadata": {
  "kernelspec": {
   "display_name": "tm",
   "language": "python",
   "name": "tm"
  },
  "language_info": {
   "codemirror_mode": {
    "name": "ipython",
    "version": 3
   },
   "file_extension": ".py",
   "mimetype": "text/x-python",
   "name": "python",
   "nbconvert_exporter": "python",
   "pygments_lexer": "ipython3",
   "version": "3.8.2"
  }
 },
 "nbformat": 4,
 "nbformat_minor": 4
}
